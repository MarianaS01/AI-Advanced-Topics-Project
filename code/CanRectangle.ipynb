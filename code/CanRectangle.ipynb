{
  "cells": [
    {
      "cell_type": "code",
      "execution_count": 19,
      "metadata": {
        "id": "gBdxXdMpuaJD"
      },
      "outputs": [],
      "source": [
        "import cv2 as cv\n",
        "import numpy as np\n",
        "import argparse\n",
        "import random as rng\n",
        "import matplotlib.pyplot as plt"
      ]
    },
    {
      "cell_type": "code",
      "execution_count": 2,
      "metadata": {
        "id": "6TLH4hKdwIbi"
      },
      "outputs": [],
      "source": [
        "def auto_canny(image, sigma=0.33):\n",
        "    # compute the median of the single channe pixel intensities\n",
        "    v = np.median(image)\n",
        "\n",
        "    # apply automatic Canny edge detection using the computed median\n",
        "    lower = int(max(0, (1.0 - sigma) * v))\n",
        "    upper = int(min(255, (1.0 + sigma) * v))\n",
        "    edged = cv.Canny(image, lower, upper)\n",
        "\n",
        "    # return the edged image\n",
        "    return edged"
      ]
    },
    {
      "cell_type": "code",
      "execution_count": null,
      "metadata": {
        "id": "J3ny5BgMuDKB"
      },
      "outputs": [],
      "source": [
        "def rectangle_contours(img, thresh, max_thresh):\n",
        "    threshold = thresh\n",
        "\n",
        "    canny_output = cv.Canny(img, threshold, threshold * 2)\n",
        "    #canny_output = auto_canny(img)\n",
        "\n",
        "    contours, _ = cv.findContours(canny_output, cv.RETR_TREE, cv.CHAIN_APPROX_SIMPLE)\n",
        "\n",
        "    drawing = np.zeros((canny_output.shape[0], canny_output.shape[1], 3), dtype=np.uint8)\n",
        "\n",
        "    contours_poly = [None]*len(contours)\n",
        "    boundRect = [None]*len(contours)\n",
        "    centers = [None]*len(contours)\n",
        "    radius = [None]*len(contours)\n",
        "\n",
        "    for i, c in enumerate(contours):\n",
        "        contours_poly[i] = cv.approxPolyDP(c, 3, True)\n",
        "        boundRect[i] = cv.boundingRect(contours_poly[i])\n",
        "        centers[i], radius[i] = cv.minEnclosingCircle(contours_poly[i])\n",
        "    print(len(contours))\n",
        "\n",
        "    perimeter = []\n",
        "    for cntr in contours:\n",
        "        perimeter.append(cv.arcLength(cntr,True)) # pieza cerrada\n",
        "\n",
        "    # Select largest:\n",
        "    largest = max(perimeter)\n",
        "    print(largest)\n",
        "    i = perimeter.index(largest)\n",
        "\n",
        "    # Draw rectangle\n",
        "    color = (rng.randint(0,256), rng.randint(0,256), rng.randint(0,256))\n",
        "    #cv.drawContours(drawing, contours_poly, i, color)\n",
        "    cv.rectangle(drawing, (int(boundRect[i][0]), int(boundRect[i][1])), \\\n",
        "        (int(boundRect[i][0]+boundRect[i][2]), int(boundRect[i][1]+boundRect[i][3])), color, 2)\n",
        "\n",
        "        #cv.circle(drawing, (int(centers[i][0]), int(centers[i][1])), int(radius[i]), color, 2)\n",
        "    plt.imshow(drawing)"
      ]
    },
    {
      "cell_type": "code",
      "execution_count": null,
      "metadata": {
        "id": "IuO-Z82JuGN3"
      },
      "outputs": [],
      "source": [
        "src = cv.imread('lata_azul.png')\n",
        "# Convert image to gray and blur it\n",
        "src_gray = cv.cvtColor(src, cv.COLOR_BGR2GRAY)\n",
        "src_gray = cv.blur(src_gray, (3,3))\n",
        "max_thresh = 255\n",
        "thresh = 100 # initial threshold\n",
        "rectangle_contours(src_gray, thresh, max_thresh)\n"
      ]
    },
    {
      "cell_type": "markdown",
      "metadata": {
        "id": "fXeTB-FBxQwT"
      },
      "source": [
        "## **Revisión de auto_canny()**"
      ]
    },
    {
      "cell_type": "code",
      "execution_count": 18,
      "metadata": {
        "colab": {
          "base_uri": "https://localhost:8080/",
          "height": 286
        },
        "id": "KjrckXmeug9n",
        "outputId": "0cd670ba-d625-4749-c2bd-07dd03003929"
      },
      "outputs": [
        {
          "data": {
            "text/plain": [
              "<matplotlib.image.AxesImage at 0x7f0f447c4ee0>"
            ]
          },
          "execution_count": 18,
          "metadata": {},
          "output_type": "execute_result"
        },
        {
          "data": {
            "image/png": "[encoded data removed]",
            "text/plain": [
              "<Figure size 432x288 with 1 Axes>"
            ]
          },
          "metadata": {
            "needs_background": "light"
          },
          "output_type": "display_data"
        }
      ],
      "source": [
        "img_path = '/home/mariana/Documents/TopicosAvanzadosIA/Proyecto/images/lata_prueba.jpeg'\n",
        "img = cv.imread(img_path, cv.IMREAD_GRAYSCALE)\n",
        "img2c = cv.cvtColor(img, cv.COLOR_GRAY2RGB)\n",
        "newedge = auto_canny(img2c, sigma=-2)\n",
        "newedge = cv.cvtColor(newedge, cv.COLOR_GRAY2RGB)\n",
        "plt.imshow(newedge)"
      ]
    },
    {
      "cell_type": "markdown",
      "metadata": {
        "id": "8giZmTSJyytW"
      },
      "source": [
        "# **Rectangulo y AutoCanny**"
      ]
    },
    {
      "cell_type": "code",
      "execution_count": 22,
      "metadata": {
        "id": "MFYwgdaJw9rr"
      },
      "outputs": [],
      "source": [
        "def rectangle_contours_autocanny(img_path, thresh, max_thresh, sigma=0.01):\n",
        "    threshold = thresh\n",
        "\n",
        "    #canny_output = cv.Canny(img, threshold, threshold * 2)\n",
        "    #canny_output = auto_canny(img)\n",
        "    img = cv.imread(img_path, cv.IMREAD_GRAYSCALE)\n",
        "    #plt.imshow(img)\n",
        "    img2c = cv.cvtColor(img, cv.COLOR_GRAY2RGB)\n",
        "    canny_output = auto_canny(img2c, sigma=sigma)\n",
        "\n",
        "\n",
        "    contours, _ = cv.findContours(canny_output, cv.RETR_TREE, cv.CHAIN_APPROX_SIMPLE)\n",
        "\n",
        "    drawing = np.zeros((canny_output.shape[0], canny_output.shape[1], 3), dtype=np.uint8)\n",
        "\n",
        "    contours_poly = [None]*len(contours)\n",
        "    boundRect = [None]*len(contours)\n",
        "    centers = [None]*len(contours)\n",
        "    radius = [None]*len(contours)\n",
        "\n",
        "    for i, c in enumerate(contours):\n",
        "        contours_poly[i] = cv.approxPolyDP(c, 3, True)\n",
        "        boundRect[i] = cv.boundingRect(contours_poly[i])\n",
        "        centers[i], radius[i] = cv.minEnclosingCircle(contours_poly[i])\n",
        "    print(len(contours))\n",
        "\n",
        "    perimeter = []\n",
        "    for cntr in contours:\n",
        "        perimeter.append(cv.arcLength(cntr,True)) # pieza cerrada\n",
        "\n",
        "    # Select largest:\n",
        "    largest = max(perimeter)\n",
        "    print(largest)\n",
        "    i = perimeter.index(largest)\n",
        "\n",
        "    # Draw rectangle\n",
        "    color = (rng.randint(0,256), rng.randint(0,256), rng.randint(0,256))\n",
        "    #cv.drawContours(drawing, contours_poly, i, color)\n",
        "    x1 = int(boundRect[i][0])\n",
        "    y1 = int(boundRect[i][1])\n",
        "    x2 = int(boundRect[i][0]+boundRect[i][2])\n",
        "    y2 = int(boundRect[i][1]+boundRect[i][3])\n",
        "    x1_y1 = (x1, y1) # tuple (x1, y1)\n",
        "    x2_y2 = (x2, y2)\n",
        "    cv.rectangle(drawing, x1_y1, x2_y2, color, 3)\n",
        "\n",
        "    center = ((x1 + x2)//2, (y1 + y2)//2)\n",
        "\n",
        "    #cv.circle(drawing, (int(centers[i][0]), int(centers[i][1])), int(radius[i]), color, 2)\n",
        "    cv.circle(drawing, center, radius=1, color=(0, 0, 255), thickness=2)\n",
        "    plt.imshow(drawing)\n",
        "    #print(x1_y1, x2_y2)\n",
        "    return center"
      ]
    },
    {
      "cell_type": "code",
      "execution_count": 23,
      "metadata": {
        "colab": {
          "base_uri": "https://localhost:8080/",
          "height": 321
        },
        "id": "1m0CXxetzZx0",
        "outputId": "81f942ef-cfcf-47d2-debb-490318d62609"
      },
      "outputs": [
        {
          "name": "stdout",
          "output_type": "stream",
          "text": [
            "13\n",
            "1211.1513639688492\n"
          ]
        },
        {
          "data": {
            "text/plain": [
              "(111, 114)"
            ]
          },
          "execution_count": 23,
          "metadata": {},
          "output_type": "execute_result"
        },
        {
          "data": {
            "image/png": "[encoded data removed]",
            "text/plain": [
              "<Figure size 432x288 with 1 Axes>"
            ]
          },
          "metadata": {
            "needs_background": "light"
          },
          "output_type": "display_data"
        }
      ],
      "source": [
        "src = '../images/lata_prueba.jpeg'\n",
        "# Convert image to gray and blur it\n",
        "#src_gray = cv.cvtColor(src, cv.COLOR_BGR2GRAY)\n",
        "#src_gray = cv.blur(src_gray, (3,3))\n",
        "max_thresh = 255\n",
        "thresh = 100 # initial threshold\n",
        "rectangle_contours_autocanny(src,thresh, max_thresh, sigma=-3)"
      ]
    },
    {
      "cell_type": "markdown",
      "metadata": {
        "id": "Psadmppk1uBE"
      },
      "source": [
        "## **Line and autocany**"
      ]
    },
    {
      "cell_type": "code",
      "execution_count": 20,
      "metadata": {
        "id": "UoyUWW3c1znO"
      },
      "outputs": [],
      "source": [
        "def line_contours_autocanny(img_path, thresh, max_thresh, sigma=0.01):\n",
        "    threshold = thresh\n",
        "\n",
        "    #canny_output = cv.Canny(img, threshold, threshold * 2)\n",
        "    #canny_output = auto_canny(img)\n",
        "    img = cv.imread(img_path, cv.IMREAD_GRAYSCALE)\n",
        "    #plt.imshow(img)\n",
        "    img2c = cv.cvtColor(img, cv.COLOR_GRAY2RGB)\n",
        "    canny_output = auto_canny(img2c, sigma=sigma)\n",
        "\n",
        "\n",
        "    contours, _ = cv.findContours(canny_output, cv.RETR_TREE, cv.CHAIN_APPROX_SIMPLE)\n",
        "\n",
        "    drawing = np.zeros((canny_output.shape[0], canny_output.shape[1], 3), dtype=np.uint8)\n",
        "\n",
        "    contours_poly = [None]*len(contours)\n",
        "    boundRect = [None]*len(contours)\n",
        "    centers = [None]*len(contours)\n",
        "    radius = [None]*len(contours)\n",
        "\n",
        "    for i, c in enumerate(contours):\n",
        "        contours_poly[i] = cv.approxPolyDP(c, 3, True)\n",
        "        boundRect[i] = cv.boundingRect(contours_poly[i])\n",
        "        centers[i], radius[i] = cv.minEnclosingCircle(contours_poly[i])\n",
        "    print(len(contours))\n",
        "\n",
        "    perimeter = []\n",
        "    for cntr in contours:\n",
        "        perimeter.append(cv.arcLength(cntr,True)) # pieza cerrada\n",
        "\n",
        "    # Select largest:\n",
        "    largest = max(perimeter)\n",
        "    print(largest)\n",
        "    i = perimeter.index(largest)\n",
        "\n",
        "    # Draw rectangle\n",
        "    color = (rng.randint(0,256), rng.randint(0,256), rng.randint(0,256))\n",
        "    #cv.drawContours(drawing, contours_poly, i, color)\n",
        "    x1 = int(boundRect[i][0])\n",
        "    y1 = int(boundRect[i][1])\n",
        "    x2 = int(boundRect[i][0]+boundRect[i][2])\n",
        "    y2 = int(boundRect[i][1]+boundRect[i][3])\n",
        "    x1_y1 = (x1, y1) # tuple (x1, y1)\n",
        "    x2_y2 = (x2, y2)\n",
        "    cv.line(drawing, x1_y1, x2_y2, color, 2)\n",
        "\n",
        "    center = ((x1 + x2)//2, (y1 + y2)//2)\n",
        "\n",
        "    #cv.circle(drawing, (int(centers[i][0]), int(centers[i][1])), int(radius[i]), color, 2)\n",
        "    cv.circle(drawing, center, radius=1, color=(255, 255, 255), thickness=5)\n",
        "    plt.imshow(drawing)\n",
        "    #print(x1_y1, x2_y2)\n",
        "    return center"
      ]
    },
    {
      "cell_type": "code",
      "execution_count": 21,
      "metadata": {
        "colab": {
          "base_uri": "https://localhost:8080/",
          "height": 321
        },
        "id": "wy6tI2SA1znQ",
        "outputId": "8ada3104-f69d-4abd-bf5a-c67b500e6706"
      },
      "outputs": [
        {
          "name": "stdout",
          "output_type": "stream",
          "text": [
            "17\n",
            "1211.1513639688492\n"
          ]
        },
        {
          "data": {
            "text/plain": [
              "(111, 114)"
            ]
          },
          "execution_count": 21,
          "metadata": {},
          "output_type": "execute_result"
        },
        {
          "data": {
            "image/png": "[encoded data removed]",
            "text/plain": [
              "<Figure size 432x288 with 1 Axes>"
            ]
          },
          "metadata": {
            "needs_background": "light"
          },
          "output_type": "display_data"
        }
      ],
      "source": [
        "src = '../images/lata_prueba.jpeg'\n",
        "# Convert image to gray and blur it\n",
        "#src_gray = cv.cvtColor(src, cv.COLOR_BGR2GRAY)\n",
        "#src_gray = cv.blur(src_gray, (3,3))\n",
        "max_thresh = 255\n",
        "thresh = 100 # initial threshold\n",
        "line_contours_autocanny(src,thresh, max_thresh, sigma=-2)"
      ]
    }
  ],
  "metadata": {
    "colab": {
      "provenance": []
    },
    "kernelspec": {
      "display_name": "Python 3.8.10 64-bit",
      "language": "python",
      "name": "python3"
    },
    "language_info": {
      "codemirror_mode": {
        "name": "ipython",
        "version": 3
      },
      "file_extension": ".py",
      "mimetype": "text/x-python",
      "name": "python",
      "nbconvert_exporter": "python",
      "pygments_lexer": "ipython3",
      "version": "3.8.10"
    },
    "vscode": {
      "interpreter": {
        "hash": "916dbcbb3f70747c44a77c7bcd40155683ae19c65e1c03b4aa3499c5328201f1"
      }
    }
  },
  "nbformat": 4,
  "nbformat_minor": 0
}
